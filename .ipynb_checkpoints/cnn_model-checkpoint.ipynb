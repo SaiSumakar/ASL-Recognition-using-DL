{
 "cells": [
  {
   "cell_type": "code",
   "execution_count": 1,
   "id": "3565ae95-2503-4ff3-8ab5-05a60263fc19",
   "metadata": {},
   "outputs": [],
   "source": [
    "from tensorflow.keras.models import Sequential, load_model\n",
    "from tensorflow.keras.layers import Convolution2D, MaxPooling2D, Flatten, Dense, Dropout, Input\n",
    "from tensorflow.keras.preprocessing.image import load_img, img_to_array, array_to_img\n",
    "from tensorflow.keras.utils import to_categorical\n",
    "from sklearn.model_selection import train_test_split\n",
    "import numpy as np\n",
    "import os\n",
    "import cv2"
   ]
  },
  {
   "cell_type": "code",
   "execution_count": 44,
   "id": "87b7edf5-49fc-4372-af5a-f50a63e5ff83",
   "metadata": {},
   "outputs": [],
   "source": [
    "from tensorflow.keras.models import load_model"
   ]
  },
  {
   "cell_type": "code",
   "execution_count": 45,
   "id": "d1f8884e-dd08-49fe-9f27-7a4a26d89dd4",
   "metadata": {},
   "outputs": [
    {
     "name": "stderr",
     "output_type": "stream",
     "text": [
      "WARNING:absl:Compiled the loaded model, but the compiled metrics have yet to be built. `model.compile_metrics` will be empty until you train or evaluate the model.\n"
     ]
    }
   ],
   "source": [
    "model = load_model('saved_model.h5')"
   ]
  },
  {
   "cell_type": "code",
   "execution_count": 46,
   "id": "881725e8-33ba-4314-be0f-c9e7bf9c02b9",
   "metadata": {},
   "outputs": [],
   "source": [
    "classes = ['A', 'B', 'C', 'D', 'E', 'F', 'G', 'H', 'I', 'J', 'K', 'L',\n",
    "           'M', 'N', 'O', 'P', 'Q', 'R', 'S', 'T', 'U', 'V',\n",
    "           'W', 'X', 'Y', 'Z', 'del', 'nothing', 'space']"
   ]
  },
  {
   "cell_type": "code",
   "execution_count": 78,
   "id": "f0fd412a-573b-404e-8284-ad3c35d3d2f8",
   "metadata": {},
   "outputs": [],
   "source": [
    "import os\n",
    "import cv2\n",
    "import numpy as np\n",
    "from tensorflow.keras.utils import img_to_array, to_categorical\n",
    "\n",
    "class DataGatherer:\n",
    "    def __init__(self, directory=\"\"):\n",
    "        self.dir = directory\n",
    "\n",
    "    # Load all images in the folder, preprocess them, and assign a single label\n",
    "    def load_images(self):\n",
    "        images = []\n",
    "        labels = []\n",
    "\n",
    "        for image_name in os.listdir(self.dir):  # Iterate through images in the folder\n",
    "            image_path = os.path.join(self.dir, image_name)\n",
    "            print(image_path)\n",
    "\n",
    "            if not image_name.lower().endswith(('.png', '.jpg', '.jpeg')):  # Skip non-image files\n",
    "                continue\n",
    "\n",
    "            img = cv2.imread(image_path, 0)  # Read the image in grayscale\n",
    "            img = self.edge_detection(img)  # Apply edge detection\n",
    "            img = cv2.resize(img, (64, 64))  # Resize to (64x64)\n",
    "            img = img_to_array(img)  # Convert to array\n",
    "\n",
    "            images.append(img)\n",
    "            labels.append(image_path)  # Since there is only one folder, use a single label, e.g., 0\n",
    "\n",
    "        images = np.array(images).astype('float32') / 255.0  # Normalize images\n",
    "        labels = to_categorical(labels, num_classes=1)  # Convert labels to one-hot encoding (optional)\n",
    "\n",
    "        return images, labels\n",
    "\n",
    "    # Edge detection function\n",
    "    def edge_detection(self, image):\n",
    "        minValue = 70\n",
    "        blur = cv2.GaussianBlur(image, (5, 5), 2)\n",
    "        th3 = cv2.adaptiveThreshold(blur, 255, cv2.ADAPTIVE_THRESH_GAUSSIAN_C, cv2.THRESH_BINARY_INV, 11, 2)\n",
    "        _, res = cv2.threshold(th3, minValue, 255, cv2.THRESH_BINARY_INV + cv2.THRESH_OTSU)\n",
    "        return res\n"
   ]
  },
  {
   "cell_type": "code",
   "execution_count": 79,
   "id": "b5112bf4-7230-4cc5-9236-afe33ec9bfdc",
   "metadata": {},
   "outputs": [],
   "source": [
    "test = DataGatherer(\"./dataset/asl_alphabet_test/asl_alphabet_test\")"
   ]
  },
  {
   "cell_type": "code",
   "execution_count": 80,
   "id": "650ee143-358c-4126-b6ab-09a83865571d",
   "metadata": {},
   "outputs": [
    {
     "name": "stdout",
     "output_type": "stream",
     "text": [
      "./dataset/asl_alphabet_test/asl_alphabet_test\\A_test.jpg\n"
     ]
    },
    {
     "ename": "NameError",
     "evalue": "name 'Path' is not defined",
     "output_type": "error",
     "traceback": [
      "\u001b[1;31m---------------------------------------------------------------------------\u001b[0m",
      "\u001b[1;31mNameError\u001b[0m                                 Traceback (most recent call last)",
      "Cell \u001b[1;32mIn[80], line 1\u001b[0m\n\u001b[1;32m----> 1\u001b[0m imgs, lbls \u001b[38;5;241m=\u001b[39m \u001b[43mtest\u001b[49m\u001b[38;5;241;43m.\u001b[39;49m\u001b[43mload_images\u001b[49m\u001b[43m(\u001b[49m\u001b[43m)\u001b[49m\n",
      "Cell \u001b[1;32mIn[78], line 28\u001b[0m, in \u001b[0;36mDataGatherer.load_images\u001b[1;34m(self)\u001b[0m\n\u001b[0;32m     25\u001b[0m     img \u001b[38;5;241m=\u001b[39m img_to_array(img)  \u001b[38;5;66;03m# Convert to array\u001b[39;00m\n\u001b[0;32m     27\u001b[0m     images\u001b[38;5;241m.\u001b[39mappend(img)\n\u001b[1;32m---> 28\u001b[0m     labels\u001b[38;5;241m.\u001b[39mappend(\u001b[43mPath\u001b[49m(image_path))  \u001b[38;5;66;03m# Since there is only one folder, use a single label, e.g., 0\u001b[39;00m\n\u001b[0;32m     30\u001b[0m images \u001b[38;5;241m=\u001b[39m np\u001b[38;5;241m.\u001b[39marray(images)\u001b[38;5;241m.\u001b[39mastype(\u001b[38;5;124m'\u001b[39m\u001b[38;5;124mfloat32\u001b[39m\u001b[38;5;124m'\u001b[39m) \u001b[38;5;241m/\u001b[39m \u001b[38;5;241m255.0\u001b[39m  \u001b[38;5;66;03m# Normalize images\u001b[39;00m\n\u001b[0;32m     31\u001b[0m labels \u001b[38;5;241m=\u001b[39m to_categorical(labels, num_classes\u001b[38;5;241m=\u001b[39m\u001b[38;5;241m1\u001b[39m)  \u001b[38;5;66;03m# Convert labels to one-hot encoding (optional)\u001b[39;00m\n",
      "\u001b[1;31mNameError\u001b[0m: name 'Path' is not defined"
     ]
    }
   ],
   "source": [
    "imgs, lbls = test.load_images()"
   ]
  },
  {
   "cell_type": "code",
   "execution_count": 50,
   "id": "e25dc696-bd47-49f8-8199-ceb6fac9b3ad",
   "metadata": {},
   "outputs": [],
   "source": [
    "def predict_func(classes, classifier, img):\n",
    "    img = cv2.resize(img, (64, 64))\n",
    "    img = img_to_array(img)\n",
    "    img = np.expand_dims(img, axis=0)\n",
    "    img = img/255.0\n",
    "    \n",
    "    pred = classifier.predict(img)\n",
    "    predicted_index = np.argmax(pred)\n",
    "    return classes[predicted_index], pred"
   ]
  },
  {
   "cell_type": "code",
   "execution_count": 53,
   "id": "337cc8e7-aab8-486c-bd3e-c4e8aad35bea",
   "metadata": {},
   "outputs": [],
   "source": [
    "import matplotlib.pyplot as plt"
   ]
  },
  {
   "cell_type": "code",
   "execution_count": 65,
   "id": "80af807e-0ecf-4b63-b969-66144bd482ef",
   "metadata": {},
   "outputs": [
    {
     "name": "stdout",
     "output_type": "stream",
     "text": [
      "\u001b[1m1/1\u001b[0m \u001b[32m━━━━━━━━━━━━━━━━━━━━\u001b[0m\u001b[37m\u001b[0m \u001b[1m0s\u001b[0m 36ms/step\n",
      "W\n"
     ]
    },
    {
     "data": {
      "text/plain": [
       "<matplotlib.image.AxesImage at 0x22b0b384b30>"
      ]
     },
     "execution_count": 65,
     "metadata": {},
     "output_type": "execute_result"
    },
    {
     "data": {
      "image/png": "[encoded data removed]",
      "text/plain": [
       "<Figure size 640x480 with 1 Axes>"
      ]
     },
     "metadata": {},
     "output_type": "display_data"
    }
   ],
   "source": [
    "a, b = predict_func(classes, model, imgs[1])\n",
    "print(a)\n",
    "plt.imshow(img.squeeze())\n"
   ]
  },
  {
   "cell_type": "code",
   "execution_count": 66,
   "id": "a35621a9-b3bb-4d0f-bf9b-4b849ec3c552",
   "metadata": {},
   "outputs": [
    {
     "data": {
      "image/png": "[encoded data removed]",
      "text/plain": [
       "<Figure size 640x480 with 1 Axes>"
      ]
     },
     "metadata": {},
     "output_type": "display_data"
    }
   ],
   "source": [
    "\n",
    "\n",
    "# Convert the image from BGR (OpenCV format) to RGB (matplotlib format)\n",
    "image_rgb = cv2.cvtColor(img, cv2.COLOR_BGR2RGB)\n",
    "\n",
    "# Plot the image using matplotlib\n",
    "plt.imshow(image_rgb)\n",
    "plt.axis('off')  # Turn off axes for better visualization\n",
    "plt.title(\"Sample Image\")  # Add a title (optional)\n",
    "plt.show()"
   ]
  },
  {
   "cell_type": "code",
   "execution_count": 71,
   "id": "6c0e207e-68f3-4110-b46b-a5f54a2f0423",
   "metadata": {},
   "outputs": [
    {
     "data": {
      "text/plain": [
       "array([1.])"
      ]
     },
     "execution_count": 71,
     "metadata": {},
     "output_type": "execute_result"
    }
   ],
   "source": []
  },
  {
   "cell_type": "code",
   "execution_count": 100,
   "id": "306a6ccc-28f1-42ad-9164-5dbc595ba5b7",
   "metadata": {},
   "outputs": [
    {
     "name": "stdout",
     "output_type": "stream",
     "text": [
      "\u001b[1m1/1\u001b[0m \u001b[32m━━━━━━━━━━━━━━━━━━━━\u001b[0m\u001b[37m\u001b[0m \u001b[1m0s\u001b[0m 29ms/step\n",
      "22\n"
     ]
    }
   ],
   "source": [
    "indices = []\n",
    "\n",
    "img = imgs[1]\n",
    "\n",
    "img = cv2.resize(img, (64, 64))\n",
    "img = img_to_array(img)\n",
    "img = np.expand_dims(img, axis=0)\n",
    "img = img/255.0\n",
    "\n",
    "pred = model.predict(img)\n",
    "print(np.argmax(pred))"
   ]
  },
  {
   "cell_type": "code",
   "execution_count": 96,
   "id": "2d154556-5b80-41b6-8212-4eac622d313b",
   "metadata": {},
   "outputs": [
    {
     "data": {
      "image/png": "[encoded data removed]",
      "text/plain": [
       "<Figure size 640x480 with 1 Axes>"
      ]
     },
     "metadata": {},
     "output_type": "display_data"
    }
   ],
   "source": [
    "image_rgb = cv2.cvtColor(imgs[0], cv2.COLOR_BGR2RGB)\n",
    "\n",
    "# Plot the image using matplotlib\n",
    "plt.imshow(image_rgb)\n",
    "plt.axis('off')  # Turn off axes for better visualization\n",
    "plt.title(\"Sample Image\")  # Add a title (optional)\n",
    "plt.show()"
   ]
  },
  {
   "cell_type": "code",
   "execution_count": null,
   "id": "13403dcc-af34-44a7-9de9-ce76662af9e1",
   "metadata": {},
   "outputs": [],
   "source": []
  }
 ],
 "metadata": {
  "kernelspec": {
   "display_name": "Python 3 (ipykernel)",
   "language": "python",
   "name": "python3"
  },
  "language_info": {
   "codemirror_mode": {
    "name": "ipython",
    "version": 3
   },
   "file_extension": ".py",
   "mimetype": "text/x-python",
   "name": "python",
   "nbconvert_exporter": "python",
   "pygments_lexer": "ipython3",
   "version": "3.12.0"
  }
 },
 "nbformat": 4,
 "nbformat_minor": 5
}
