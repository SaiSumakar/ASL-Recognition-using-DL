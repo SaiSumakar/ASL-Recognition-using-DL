{
 "cells": [
  {
   "cell_type": "markdown",
   "id": "52039487-1871-4445-bd21-80b1835a0fc1",
   "metadata": {},
   "source": [
    "numpy=1.21\n",
    "mediapipe=0.8.8.1\n",
    "tensorflow=2.6.0\n",
    "opencv-python=4.5.3.56\n",
    "pyspellchecker=0.6.2\n",
    "sklearn=1.0\n",
    "matplotlib=3.4.3"
   ]
  },
  {
   "cell_type": "code",
   "execution_count": 1,
   "id": "608c4e3c-1a62-41a1-8ad5-82fb0978aed8",
   "metadata": {},
   "outputs": [],
   "source": [
    "import numpy as np\n",
    "import os\n",
    "import cv2\n",
    "import matplotlib.pyplot as plt\n",
    "from math import ceil\n",
    "import sklearn\n",
    "import tensorflow as tf\n",
    "from tensorflow.keras.models import Sequential, load_model\n",
    "from tensorflow.keras.layers import Convolution2D, MaxPooling2D, Flatten, Dense, Dropout\n",
    "from tensorflow.keras.preprocessing.image import load_img, img_to_array, array_to_img\n",
    "from tensorflow.keras.utils import to_categorical\n",
    "from sklearn.model_selection import train_test_split\n"
   ]
  },
  {
   "cell_type": "code",
   "execution_count": 2,
   "id": "aed9797f-dd21-4ddc-8519-0fe36d26fc01",
   "metadata": {},
   "outputs": [],
   "source": [
    "from spellchecker import SpellChecker\n",
    "\n",
    "\n",
    "def Auto_Correct(word):\n",
    "    mySpellChecker = SpellChecker()\n",
    "    return mySpellChecker.correction(word)"
   ]
  },
  {
   "cell_type": "code",
   "execution_count": 6,
   "id": "84f8188e-6f9c-42cf-bf6f-e83877c2cfb1",
   "metadata": {},
   "outputs": [],
   "source": [
    "# cnn.py\n",
    "\n",
    "class Model:\n",
    "\n",
    "  classifier = None\n",
    "  def __init__(self, Type):\n",
    "    self.classifier = Type\n",
    "    \n",
    "  def build_model(classifier):\n",
    "    \n",
    "\n",
    "    classifier.add(Convolution2D(128, (3, 3), input_shape=(64, 64, 1), activation='relu'))\n",
    "\n",
    "    classifier.add(Convolution2D(256, (3, 3), activation='relu'))\n",
    "    classifier.add(MaxPooling2D(pool_size=(2, 2)))\n",
    "\n",
    "    classifier.add(Convolution2D(256, (3, 3), activation='relu'))\n",
    "    classifier.add(MaxPooling2D(pool_size=(2, 2)))\n",
    "    \n",
    "    classifier.add(Convolution2D(512, (3, 3), activation='relu'))\n",
    "    classifier.add(MaxPooling2D(pool_size=(2, 2)))\n",
    "    classifier.add(Dropout(0.5))\n",
    "\n",
    "    classifier.add(Convolution2D(512, (3, 3), activation='relu'))\n",
    "    classifier.add(MaxPooling2D(pool_size=(2, 2)))\n",
    "    classifier.add(Dropout(0.5))\n",
    "\n",
    "    classifier.add(Flatten())\n",
    "\n",
    "    classifier.add(Dropout(0.5))\n",
    "    \n",
    "    classifier.add(Dense(1024, activation='relu'))\n",
    "    \n",
    "\n",
    "    classifier.add(Dense(29, activation='softmax'))\n",
    "\n",
    "    return classifier\n",
    "\n",
    "  def save_classifier(path, classifier):\n",
    "    classifier.save(path)\n",
    "\n",
    "  def load_classifier(path):\n",
    "    classifier = load_model(path)\n",
    "    return classifier\n",
    "\n",
    "  def predict(classes, classifier, img):\n",
    "    img = cv2.resize(img, (64, 64))\n",
    "    img = img_to_array(img)\n",
    "    img = np.expand_dims(img, axis=0)\n",
    "    img = img/255.0\n",
    "\n",
    "    pred = classifier.predict(img)\n",
    "    return classes[np.argmax(pred)], pred\n",
    "    \n",
    "\n",
    "class DataGatherer:\n",
    "\n",
    "  def __init__(self, *args):\n",
    "    if len(args) > 0:\n",
    "      self.dir = args[0]\n",
    "    elif len(args) == 0:\n",
    "      self.dir = \"\"\n",
    "\n",
    "  #this function loads the images along with their labels and apply pre-processing function on the images \n",
    "  # and finaly split them into train and test dataset\n",
    "  def load_images(self):\n",
    "    images = []\n",
    "    labels = []\n",
    "    index = -1\n",
    "    folders = sorted(os.listdir(self.dir))\n",
    "    \n",
    "    for folder in folders:\n",
    "      index += 1\n",
    "      \n",
    "      print(\"Loading images from folder \", folder ,\" has started.\")\n",
    "      for image in os.listdir(self.dir + '/' + folder):\n",
    "\n",
    "        img = cv2.imread(self.dir + '/' + folder + '/' + image, 0)\n",
    "        \n",
    "        img = self.edge_detection(img)\n",
    "        img = cv2.resize(img, (64, 64))\n",
    "        img = img_to_array(img)\n",
    "\n",
    "        images.append(img)\n",
    "        labels.append(index)\n",
    "\n",
    "    images = np.array(images)\n",
    "    images = images.astype('float32')/255.0\n",
    "    labels = to_categorical(labels)\n",
    "\n",
    "    x_train, x_test, y_train, y_test = train_test_split(images, labels, test_size=0.1)\n",
    "\n",
    "    return x_train, x_test, y_train, y_test\n",
    "\n",
    "  def edge_detection(self, image):\n",
    "    minValue = 70\n",
    "    blur = cv2.GaussianBlur(image,(5,5),2)\n",
    "    th3 = cv2.adaptiveThreshold(blur,255,cv2.ADAPTIVE_THRESH_GAUSSIAN_C,cv2.THRESH_BINARY_INV,11,2)\n",
    "    ret, res = cv2.threshold(th3, minValue, 255, cv2.THRESH_BINARY_INV+cv2.THRESH_OTSU)\n",
    "    return res"
   ]
  },
  {
   "cell_type": "code",
   "execution_count": 7,
   "id": "b6c57668-197b-48b4-9871-99d365b9ccf2",
   "metadata": {},
   "outputs": [
    {
     "name": "stdout",
     "output_type": "stream",
     "text": [
      "Loading images from folder  A  has started.\n",
      "Loading images from folder  B  has started.\n",
      "Loading images from folder  C  has started.\n",
      "Loading images from folder  D  has started.\n",
      "Loading images from folder  E  has started.\n",
      "Loading images from folder  F  has started.\n",
      "Loading images from folder  G  has started.\n",
      "Loading images from folder  H  has started.\n",
      "Loading images from folder  I  has started.\n",
      "Loading images from folder  J  has started.\n",
      "Loading images from folder  K  has started.\n",
      "Loading images from folder  L  has started.\n",
      "Loading images from folder  M  has started.\n",
      "Loading images from folder  N  has started.\n",
      "Loading images from folder  O  has started.\n",
      "Loading images from folder  P  has started.\n",
      "Loading images from folder  Q  has started.\n",
      "Loading images from folder  R  has started.\n",
      "Loading images from folder  S  has started.\n",
      "Loading images from folder  T  has started.\n",
      "Loading images from folder  U  has started.\n",
      "Loading images from folder  V  has started.\n",
      "Loading images from folder  W  has started.\n",
      "Loading images from folder  X  has started.\n",
      "Loading images from folder  Y  has started.\n",
      "Loading images from folder  Z  has started.\n",
      "Loading images from folder  del  has started.\n",
      "Loading images from folder  nothing  has started.\n",
      "Loading images from folder  space  has started.\n",
      "Epoch 1/3\n",
      "\u001b[1m1224/1224\u001b[0m \u001b[32m━━━━━━━━━━━━━━━━━━━━\u001b[0m\u001b[37m\u001b[0m \u001b[1m7244s\u001b[0m 6s/step - accuracy: 0.3662 - loss: 2.1200 - val_accuracy: 0.9741 - val_loss: 0.1153\n",
      "Epoch 2/3\n",
      "\u001b[1m1224/1224\u001b[0m \u001b[32m━━━━━━━━━━━━━━━━━━━━\u001b[0m\u001b[37m\u001b[0m \u001b[1m7536s\u001b[0m 6s/step - accuracy: 0.9134 - loss: 0.2572 - val_accuracy: 0.9923 - val_loss: 0.0370\n",
      "Epoch 3/3\n",
      "\u001b[1m1224/1224\u001b[0m \u001b[32m━━━━━━━━━━━━━━━━━━━━\u001b[0m\u001b[37m\u001b[0m \u001b[1m7383s\u001b[0m 6s/step - accuracy: 0.9492 - loss: 0.1535 - val_accuracy: 0.9968 - val_loss: 0.0163\n"
     ]
    },
    {
     "data": {
      "image/png": "[encoded data removed]",
      "text/plain": [
       "<Figure size 800x500 with 1 Axes>"
      ]
     },
     "metadata": {},
     "output_type": "display_data"
    },
    {
     "ename": "ValueError",
     "evalue": "Invalid filepath extension for saving. Please add either a `.keras` extension for the native Keras format (recommended) or a `.h5` extension. Use `model.export(filepath)` if you want to export a SavedModel for use with TFLite/TFServing/etc. Received: filepath=saved_model.",
     "output_type": "error",
     "traceback": [
      "\u001b[1;31m---------------------------------------------------------------------------\u001b[0m",
      "\u001b[1;31mValueError\u001b[0m                                Traceback (most recent call last)",
      "Cell \u001b[1;32mIn[7], line 48\u001b[0m\n\u001b[0;32m     46\u001b[0m \u001b[38;5;66;03m# Save the model using the save_classifier method\u001b[39;00m\n\u001b[0;32m     47\u001b[0m path \u001b[38;5;241m=\u001b[39m \u001b[38;5;124m\"\u001b[39m\u001b[38;5;124msaved_model\u001b[39m\u001b[38;5;124m\"\u001b[39m  \u001b[38;5;66;03m# Specify the file path\u001b[39;00m\n\u001b[1;32m---> 48\u001b[0m \u001b[43mModel\u001b[49m\u001b[38;5;241;43m.\u001b[39;49m\u001b[43msave_classifier\u001b[49m\u001b[43m(\u001b[49m\u001b[43mpath\u001b[49m\u001b[43m,\u001b[49m\u001b[43m \u001b[49m\u001b[43mclassifier\u001b[49m\u001b[43m)\u001b[49m\n\u001b[0;32m     49\u001b[0m \u001b[38;5;28mprint\u001b[39m(\u001b[38;5;124mf\u001b[39m\u001b[38;5;124m\"\u001b[39m\u001b[38;5;124mModel saved to \u001b[39m\u001b[38;5;132;01m{\u001b[39;00mpath\u001b[38;5;132;01m}\u001b[39;00m\u001b[38;5;124m\"\u001b[39m)\n",
      "Cell \u001b[1;32mIn[6], line 40\u001b[0m, in \u001b[0;36mModel.save_classifier\u001b[1;34m(path, classifier)\u001b[0m\n\u001b[0;32m     39\u001b[0m \u001b[38;5;28;01mdef\u001b[39;00m \u001b[38;5;21msave_classifier\u001b[39m(path, classifier):\n\u001b[1;32m---> 40\u001b[0m   \u001b[43mclassifier\u001b[49m\u001b[38;5;241;43m.\u001b[39;49m\u001b[43msave\u001b[49m\u001b[43m(\u001b[49m\u001b[43mpath\u001b[49m\u001b[43m)\u001b[49m\n",
      "File \u001b[1;32mC:\\Python312\\Lib\\site-packages\\keras\\src\\utils\\traceback_utils.py:122\u001b[0m, in \u001b[0;36mfilter_traceback.<locals>.error_handler\u001b[1;34m(*args, **kwargs)\u001b[0m\n\u001b[0;32m    119\u001b[0m     filtered_tb \u001b[38;5;241m=\u001b[39m _process_traceback_frames(e\u001b[38;5;241m.\u001b[39m__traceback__)\n\u001b[0;32m    120\u001b[0m     \u001b[38;5;66;03m# To get the full stack trace, call:\u001b[39;00m\n\u001b[0;32m    121\u001b[0m     \u001b[38;5;66;03m# `keras.config.disable_traceback_filtering()`\u001b[39;00m\n\u001b[1;32m--> 122\u001b[0m     \u001b[38;5;28;01mraise\u001b[39;00m e\u001b[38;5;241m.\u001b[39mwith_traceback(filtered_tb) \u001b[38;5;28;01mfrom\u001b[39;00m \u001b[38;5;28;01mNone\u001b[39;00m\n\u001b[0;32m    123\u001b[0m \u001b[38;5;28;01mfinally\u001b[39;00m:\n\u001b[0;32m    124\u001b[0m     \u001b[38;5;28;01mdel\u001b[39;00m filtered_tb\n",
      "File \u001b[1;32mC:\\Python312\\Lib\\site-packages\\keras\\src\\saving\\saving_api.py:114\u001b[0m, in \u001b[0;36msave_model\u001b[1;34m(model, filepath, overwrite, zipped, **kwargs)\u001b[0m\n\u001b[0;32m    110\u001b[0m \u001b[38;5;28;01mif\u001b[39;00m \u001b[38;5;28mstr\u001b[39m(filepath)\u001b[38;5;241m.\u001b[39mendswith((\u001b[38;5;124m\"\u001b[39m\u001b[38;5;124m.h5\u001b[39m\u001b[38;5;124m\"\u001b[39m, \u001b[38;5;124m\"\u001b[39m\u001b[38;5;124m.hdf5\u001b[39m\u001b[38;5;124m\"\u001b[39m)):\n\u001b[0;32m    111\u001b[0m     \u001b[38;5;28;01mreturn\u001b[39;00m legacy_h5_format\u001b[38;5;241m.\u001b[39msave_model_to_hdf5(\n\u001b[0;32m    112\u001b[0m         model, filepath, overwrite, include_optimizer\n\u001b[0;32m    113\u001b[0m     )\n\u001b[1;32m--> 114\u001b[0m \u001b[38;5;28;01mraise\u001b[39;00m \u001b[38;5;167;01mValueError\u001b[39;00m(\n\u001b[0;32m    115\u001b[0m     \u001b[38;5;124m\"\u001b[39m\u001b[38;5;124mInvalid filepath extension for saving. \u001b[39m\u001b[38;5;124m\"\u001b[39m\n\u001b[0;32m    116\u001b[0m     \u001b[38;5;124m\"\u001b[39m\u001b[38;5;124mPlease add either a `.keras` extension for the native Keras \u001b[39m\u001b[38;5;124m\"\u001b[39m\n\u001b[0;32m    117\u001b[0m     \u001b[38;5;124mf\u001b[39m\u001b[38;5;124m\"\u001b[39m\u001b[38;5;124mformat (recommended) or a `.h5` extension. \u001b[39m\u001b[38;5;124m\"\u001b[39m\n\u001b[0;32m    118\u001b[0m     \u001b[38;5;124m\"\u001b[39m\u001b[38;5;124mUse `model.export(filepath)` if you want to export a SavedModel \u001b[39m\u001b[38;5;124m\"\u001b[39m\n\u001b[0;32m    119\u001b[0m     \u001b[38;5;124m\"\u001b[39m\u001b[38;5;124mfor use with TFLite/TFServing/etc. \u001b[39m\u001b[38;5;124m\"\u001b[39m\n\u001b[0;32m    120\u001b[0m     \u001b[38;5;124mf\u001b[39m\u001b[38;5;124m\"\u001b[39m\u001b[38;5;124mReceived: filepath=\u001b[39m\u001b[38;5;132;01m{\u001b[39;00mfilepath\u001b[38;5;132;01m}\u001b[39;00m\u001b[38;5;124m.\u001b[39m\u001b[38;5;124m\"\u001b[39m\n\u001b[0;32m    121\u001b[0m )\n",
      "\u001b[1;31mValueError\u001b[0m: Invalid filepath extension for saving. Please add either a `.keras` extension for the native Keras format (recommended) or a `.h5` extension. Use `model.export(filepath)` if you want to export a SavedModel for use with TFLite/TFServing/etc. Received: filepath=saved_model."
     ]
    }
   ],
   "source": [
    "# train.py\n",
    "\n",
    "training_dir = 'Dataset\\\\asl_alphabet_train'\n",
    "\n",
    "#loading the images from training directory\n",
    "data_gatherer = DataGatherer(training_dir)\n",
    "\n",
    "x_train, x_test, y_train, y_test = data_gatherer.load_images()\n",
    "\n",
    "batch_size = 64\n",
    "training_size = x_train.shape[0]\n",
    "test_size = x_test.shape[0]\n",
    "\n",
    "\n",
    "#computing steps and validation steps per epoch according to training and testing size\n",
    "compute_steps_per_epoch = lambda x: int(ceil(1. * x/batch_size))\n",
    "steps_per_epoch = compute_steps_per_epoch(training_size)\n",
    "val_steps = compute_steps_per_epoch(test_size)\n",
    "\n",
    "#build the model\n",
    "classifier = Model(Sequential()).classifier\n",
    "classifier = Model.build_model(classifier)\n",
    "\n",
    "classifier.compile(optimizer='adam', loss='categorical_crossentropy', metrics=['accuracy'])\n",
    "\n",
    "#train the model\n",
    "history = classifier.fit(\n",
    "  x_train, y_train,\n",
    "  steps_per_epoch=steps_per_epoch,\n",
    "  epochs=3,\n",
    "  validation_data=(x_test, y_test),\n",
    "  validation_steps=val_steps)\n",
    "\n",
    "#plot accuracy graph\n",
    "plt.figure(figsize=(8,5))\n",
    "\n",
    "plt.plot(history.history['accuracy'], label='train_accuracy',)\n",
    "plt.plot(history.history['val_accuracy'], label='val_accuracy')\n",
    "plt.xlabel('epoch')\n",
    "plt.ylabel('accuracy')\n",
    "plt.legend()\n",
    "plt.title(\"classifier\")\n",
    "\n",
    "plt.show();\n",
    "\n",
    "# Save the model using the save_classifier method\n",
    "path = \"saved_model\"  # Specify the file path\n",
    "Model.save_classifier(path, classifier)\n",
    "print(f\"Model saved to {path}\")"
   ]
  },
  {
   "cell_type": "code",
   "execution_count": 9,
   "id": "f07f5cd9-37b3-441d-a863-2868e6eade6f",
   "metadata": {},
   "outputs": [
    {
     "name": "stderr",
     "output_type": "stream",
     "text": [
      "WARNING:absl:You are saving your model as an HDF5 file via `model.save()` or `keras.saving.save_model(model)`. This file format is considered legacy. We recommend using instead the native Keras format, e.g. `model.save('my_model.keras')` or `keras.saving.save_model(model, 'my_model.keras')`. \n"
     ]
    },
    {
     "name": "stdout",
     "output_type": "stream",
     "text": [
      "Model saved to saved_model.h5\n"
     ]
    }
   ],
   "source": [
    "# Save the model using the save_classifier method\n",
    "path = \"saved_model.h5\"  # Specify the file path\n",
    "Model.save_classifier(path, classifier)\n",
    "print(f\"Model saved to {path}\")"
   ]
  },
  {
   "cell_type": "code",
   "execution_count": 10,
   "id": "d818f0d2-e698-4189-89b3-1d5705ccf132",
   "metadata": {},
   "outputs": [
    {
     "name": "stdout",
     "output_type": "stream",
     "text": [
      "Model saved to model.keras\n"
     ]
    }
   ],
   "source": [
    "# Save the model using the save_classifier method in .keras format\n",
    "path = \"model.keras\"  # Specify the file path\n",
    "Model.save_classifier(path, classifier)\n",
    "print(f\"Model saved to {path}\")"
   ]
  }
 ],
 "metadata": {
  "kernelspec": {
   "display_name": "Python 3 (ipykernel)",
   "language": "python",
   "name": "python3"
  },
  "language_info": {
   "codemirror_mode": {
    "name": "ipython",
    "version": 3
   },
   "file_extension": ".py",
   "mimetype": "text/x-python",
   "name": "python",
   "nbconvert_exporter": "python",
   "pygments_lexer": "ipython3",
   "version": "3.12.3"
  }
 },
 "nbformat": 4,
 "nbformat_minor": 5
}
